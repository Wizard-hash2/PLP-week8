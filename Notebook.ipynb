{
 "cells": [
  {
   "cell_type": "code",
   "execution_count": 4,
   "id": "6a3588df",
   "metadata": {},
   "outputs": [
    {
     "name": "stdout",
     "output_type": "stream",
     "text": [
      " The data is  Province/State    20\n",
      "Country/Region     0\n",
      "Last Update        0\n",
      "Confirmed          0\n",
      "Deaths             0\n",
      "Recovered          0\n",
      "dtype: int64\n",
      "  Province/State  Country/Region     Last Update  Confirmed  Deaths  Recovered\n",
      "0          Hubei  Mainland China  2/1/2020 11:53       7153     249        168\n",
      "1       Zhejiang  Mainland China  2/1/2020 10:53        599       0         21\n",
      "2      Guangdong  Mainland China  2/1/2020 14:23        535       0         14\n",
      "3          Henan  Mainland China   2/1/2020 1:52        422       2          3\n",
      "4          Hunan  Mainland China  2/1/2020 11:03        389       0          8\n",
      "  Province/State  Country/Region     Last Update  Confirmed  Deaths  Recovered\n",
      "0          Hubei  Mainland China  2/1/2020 11:53       7153     249        168\n",
      "1       Zhejiang  Mainland China  2/1/2020 10:53        599       0         21\n",
      "2      Guangdong  Mainland China  2/1/2020 14:23        535       0         14\n",
      "3          Henan  Mainland China   2/1/2020 1:52        422       2          3\n",
      "4          Hunan  Mainland China  2/1/2020 11:03        389       0          8\n",
      "the deathRate is 46.47876447876448\n"
     ]
    },
    {
     "data": {
      "image/png": "[encoded data removed]",
      "text/plain": [
       "<Figure size 640x480 with 1 Axes>"
      ]
     },
     "metadata": {},
     "output_type": "display_data"
    }
   ],
   "source": [
    "import pandas as pd\n",
    "import matplotlib.pyplot as plt\n",
    "\n",
    "def Project():\n",
    "   try:\n",
    "       CovData = pd.read_csv('covid20.csv')\n",
    "       #print(CovData.head())\n",
    "     #  print(CovData.columns)\n",
    "       print(f' The data is  {CovData.isnull().sum()}')\n",
    "      # CovData.dropna(axis =0, inplace= True)\n",
    "        \n",
    "       #print(f' The data is  {CovData.isnull().sum()}')\n",
    "       print(CovData.head())\n",
    "       CovData.fillna(0, inplace = True)\n",
    "       print(CovData.head())\n",
    "\n",
    "    # Time \n",
    "       CovData['Last Update'] = pd.to_datetime(CovData['Last Update'])\n",
    "       CovData['hour'] =  CovData['Last Update'].dt.hour #Extracting Hours\n",
    "     #Plotting\n",
    "     #  plt.plot(CovData['Deaths'], CovData['Confirmed'])  \n",
    "       try:\n",
    "           CovData['Province/State'] = CovData['Province/State'].astype(str)\n",
    "           provDat = CovData.groupby('Province/State')['Deaths'].sum()\n",
    "           plt.bar(provDat.index, provDat.values)\n",
    "           plt.xlabel('Province')\n",
    "           plt.ylabel('deaths')\n",
    "        #plt.plot(CovData['Province/State'], CovData['Deaths'], kind = 'Hist')\n",
    "\n",
    "       except Exception as e:\n",
    "           print(f'The problem is at the {e}')\n",
    "       \n",
    "       \n",
    "       #Calculations\n",
    "       deathRate = CovData['Confirmed'].agg('sum') / CovData['Deaths'].agg('sum')\n",
    "       print(f'the deathRate is {deathRate}')\n",
    "       \n",
    "    \n",
    "        \n",
    "    \n",
    "       \n",
    "\n",
    "\n",
    "\n",
    "   except Exception as e:\n",
    "        print(f\"Hey {e}\")\n",
    "\n",
    "\n",
    "\n",
    "\n",
    "\n",
    "\n",
    "Project()\n"
   ]
  },
  {
   "cell_type": "markdown",
   "id": "3a0418dc",
   "metadata": {},
   "source": [
    "This Notebook analyzes the Covid 19 from china in the year 2021.\n",
    "We aim to :\n",
    "> Identify trend in the deaths\n",
    "> Visualize patterns from the above codes \n",
    "> Handle Missing Values"
   ]
  }
 ],
 "metadata": {
  "kernelspec": {
   "display_name": "Python 3",
   "language": "python",
   "name": "python3"
  },
  "language_info": {
   "codemirror_mode": {
    "name": "ipython",
    "version": 3
   },
   "file_extension": ".py",
   "mimetype": "text/x-python",
   "name": "python",
   "nbconvert_exporter": "python",
   "pygments_lexer": "ipython3",
   "version": "3.12.5"
  }
 },
 "nbformat": 4,
 "nbformat_minor": 5
}
